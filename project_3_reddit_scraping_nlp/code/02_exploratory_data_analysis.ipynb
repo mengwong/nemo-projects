{
 "cells": [
  {
   "cell_type": "code",
   "execution_count": 2,
   "metadata": {},
   "outputs": [],
   "source": [
    "import numpy as np\n",
    "import pandas as pd\n",
    "import matplotlib.pyplot as plt\n",
    "import seaborn as sns\n",
    "\n",
    "import re\n",
    "\n",
    "\n",
    "from nltk import FreqDist\n",
    "from nltk.tokenize import word_tokenize\n",
    "from nltk.tokenize import RegexpTokenizer\n",
    "from nltk.corpus import stopwords\n",
    "from nltk.util import ngrams"
   ]
  },
  {
   "cell_type": "markdown",
   "metadata": {},
   "source": [
    "## Section 1: Loading the data and doing some cursory analysis"
   ]
  },
  {
   "cell_type": "markdown",
   "metadata": {},
   "source": [
    "Importing the csv file into dataframes for analysis"
   ]
  },
  {
   "cell_type": "code",
   "execution_count": 3,
   "metadata": {},
   "outputs": [],
   "source": [
    "# Read csv\n",
    "combined_df = pd.read_csv('../data/combined_df.csv')"
   ]
  },
  {
   "cell_type": "markdown",
   "metadata": {},
   "source": [
    "Ensuring the dataframes were loaded correctly"
   ]
  },
  {
   "cell_type": "code",
   "execution_count": 4,
   "metadata": {},
   "outputs": [
    {
     "data": {
      "text/html": [
       "<div>\n",
       "<style scoped>\n",
       "    .dataframe tbody tr th:only-of-type {\n",
       "        vertical-align: middle;\n",
       "    }\n",
       "\n",
       "    .dataframe tbody tr th {\n",
       "        vertical-align: top;\n",
       "    }\n",
       "\n",
       "    .dataframe thead th {\n",
       "        text-align: right;\n",
       "    }\n",
       "</style>\n",
       "<table border=\"1\" class=\"dataframe\">\n",
       "  <thead>\n",
       "    <tr style=\"text-align: right;\">\n",
       "      <th></th>\n",
       "      <th>title</th>\n",
       "      <th>selftext</th>\n",
       "      <th>subreddit</th>\n",
       "      <th>author</th>\n",
       "    </tr>\n",
       "  </thead>\n",
       "  <tbody>\n",
       "    <tr>\n",
       "      <th>0</th>\n",
       "      <td>New to solo travel? Post here for introduction...</td>\n",
       "      <td>**!!NEW!!**\\n\\n* **Are you planning your first...</td>\n",
       "      <td>solotravel</td>\n",
       "      <td>AutoModerator</td>\n",
       "    </tr>\n",
       "    <tr>\n",
       "      <th>1</th>\n",
       "      <td>Hi! Can someone tell me how the restrictions w...</td>\n",
       "      <td>/s\\n\\nYou can delete this, if this is isn't su...</td>\n",
       "      <td>solotravel</td>\n",
       "      <td>rakahr11</td>\n",
       "    </tr>\n",
       "    <tr>\n",
       "      <th>2</th>\n",
       "      <td>Is It Expensive Traveling With A Flexible Itin...</td>\n",
       "      <td>I'm planning my first solo trip, hopefully, an...</td>\n",
       "      <td>solotravel</td>\n",
       "      <td>Custer_Had_It_Coming</td>\n",
       "    </tr>\n",
       "    <tr>\n",
       "      <th>3</th>\n",
       "      <td>Mistakes whilst travelling solo</td>\n",
       "      <td>I have personally made many mistakes whilst tr...</td>\n",
       "      <td>solotravel</td>\n",
       "      <td>aspoonfullofacid</td>\n",
       "    </tr>\n",
       "    <tr>\n",
       "      <th>4</th>\n",
       "      <td>Weak passport holders- how do you travel spont...</td>\n",
       "      <td>So I plan to travel once it is safe to travel....</td>\n",
       "      <td>solotravel</td>\n",
       "      <td>ruchigandhi22</td>\n",
       "    </tr>\n",
       "    <tr>\n",
       "      <th>...</th>\n",
       "      <td>...</td>\n",
       "      <td>...</td>\n",
       "      <td>...</td>\n",
       "      <td>...</td>\n",
       "    </tr>\n",
       "    <tr>\n",
       "      <th>4926</th>\n",
       "      <td>Hakuba No Snow Need Help</td>\n",
       "      <td>Looking for recommendations for something to d...</td>\n",
       "      <td>JapanTravel</td>\n",
       "      <td>jwtorres</td>\n",
       "    </tr>\n",
       "    <tr>\n",
       "      <th>4927</th>\n",
       "      <td>Need advice on where to stay for my second tri...</td>\n",
       "      <td>Hey folks, \\nLast year I did Tokyo and Kyoto o...</td>\n",
       "      <td>JapanTravel</td>\n",
       "      <td>0rionis</td>\n",
       "    </tr>\n",
       "    <tr>\n",
       "      <th>4928</th>\n",
       "      <td>Any Luck With JAL's Free Trip Promotion?</td>\n",
       "      <td>&amp;amp;#x200B;\\n\\nHi, first time posting here.\\n...</td>\n",
       "      <td>JapanTravel</td>\n",
       "      <td>natablu</td>\n",
       "    </tr>\n",
       "    <tr>\n",
       "      <th>4929</th>\n",
       "      <td>8-Day Itinerary (3/15&amp;gt;&amp;gt;&amp;gt;3/22)</td>\n",
       "      <td>Hi everyone, \\n\\nI'm going to Tokyo for 8 days...</td>\n",
       "      <td>JapanTravel</td>\n",
       "      <td>BaranAdahn</td>\n",
       "    </tr>\n",
       "    <tr>\n",
       "      <th>4930</th>\n",
       "      <td>Itinerary Check - Hiroshima &amp;amp; Kyushu (7d)</td>\n",
       "      <td>Hey, \\nIt's my first trip to Japan, but I do h...</td>\n",
       "      <td>JapanTravel</td>\n",
       "      <td>yup8</td>\n",
       "    </tr>\n",
       "  </tbody>\n",
       "</table>\n",
       "<p>4931 rows × 4 columns</p>\n",
       "</div>"
      ],
      "text/plain": [
       "                                                  title  \\\n",
       "0     New to solo travel? Post here for introduction...   \n",
       "1     Hi! Can someone tell me how the restrictions w...   \n",
       "2     Is It Expensive Traveling With A Flexible Itin...   \n",
       "3                       Mistakes whilst travelling solo   \n",
       "4     Weak passport holders- how do you travel spont...   \n",
       "...                                                 ...   \n",
       "4926                           Hakuba No Snow Need Help   \n",
       "4927  Need advice on where to stay for my second tri...   \n",
       "4928           Any Luck With JAL's Free Trip Promotion?   \n",
       "4929             8-Day Itinerary (3/15&gt;&gt;&gt;3/22)   \n",
       "4930      Itinerary Check - Hiroshima &amp; Kyushu (7d)   \n",
       "\n",
       "                                               selftext    subreddit  \\\n",
       "0     **!!NEW!!**\\n\\n* **Are you planning your first...   solotravel   \n",
       "1     /s\\n\\nYou can delete this, if this is isn't su...   solotravel   \n",
       "2     I'm planning my first solo trip, hopefully, an...   solotravel   \n",
       "3     I have personally made many mistakes whilst tr...   solotravel   \n",
       "4     So I plan to travel once it is safe to travel....   solotravel   \n",
       "...                                                 ...          ...   \n",
       "4926  Looking for recommendations for something to d...  JapanTravel   \n",
       "4927  Hey folks, \\nLast year I did Tokyo and Kyoto o...  JapanTravel   \n",
       "4928  &amp;#x200B;\\n\\nHi, first time posting here.\\n...  JapanTravel   \n",
       "4929  Hi everyone, \\n\\nI'm going to Tokyo for 8 days...  JapanTravel   \n",
       "4930  Hey, \\nIt's my first trip to Japan, but I do h...  JapanTravel   \n",
       "\n",
       "                    author  \n",
       "0            AutoModerator  \n",
       "1                 rakahr11  \n",
       "2     Custer_Had_It_Coming  \n",
       "3         aspoonfullofacid  \n",
       "4            ruchigandhi22  \n",
       "...                    ...  \n",
       "4926              jwtorres  \n",
       "4927               0rionis  \n",
       "4928               natablu  \n",
       "4929            BaranAdahn  \n",
       "4930                  yup8  \n",
       "\n",
       "[4931 rows x 4 columns]"
      ]
     },
     "execution_count": 4,
     "metadata": {},
     "output_type": "execute_result"
    }
   ],
   "source": [
    "#Checking both the head and tail of the data as they are from different subreddits\n",
    "combined_df"
   ]
  },
  {
   "cell_type": "markdown",
   "metadata": {},
   "source": [
    "Let's remove duplicates with drop_duplicates"
   ]
  },
  {
   "cell_type": "code",
   "execution_count": 5,
   "metadata": {},
   "outputs": [],
   "source": [
    "# Dropping duplicates and replacing the df\n",
    "combined_df.drop_duplicates(subset=['selftext'], inplace=True)\n",
    "\n",
    "#Reset index\n",
    "combined_df.reset_index(inplace=True)"
   ]
  },
  {
   "cell_type": "code",
   "execution_count": 6,
   "metadata": {},
   "outputs": [
    {
     "data": {
      "text/html": [
       "<div>\n",
       "<style scoped>\n",
       "    .dataframe tbody tr th:only-of-type {\n",
       "        vertical-align: middle;\n",
       "    }\n",
       "\n",
       "    .dataframe tbody tr th {\n",
       "        vertical-align: top;\n",
       "    }\n",
       "\n",
       "    .dataframe thead th {\n",
       "        text-align: right;\n",
       "    }\n",
       "</style>\n",
       "<table border=\"1\" class=\"dataframe\">\n",
       "  <thead>\n",
       "    <tr style=\"text-align: right;\">\n",
       "      <th></th>\n",
       "      <th>index</th>\n",
       "      <th>title</th>\n",
       "      <th>selftext</th>\n",
       "      <th>subreddit</th>\n",
       "      <th>author</th>\n",
       "    </tr>\n",
       "  </thead>\n",
       "  <tbody>\n",
       "    <tr>\n",
       "      <th>0</th>\n",
       "      <td>0</td>\n",
       "      <td>New to solo travel? Post here for introduction...</td>\n",
       "      <td>**!!NEW!!**\\n\\n* **Are you planning your first...</td>\n",
       "      <td>solotravel</td>\n",
       "      <td>AutoModerator</td>\n",
       "    </tr>\n",
       "    <tr>\n",
       "      <th>1</th>\n",
       "      <td>1</td>\n",
       "      <td>Hi! Can someone tell me how the restrictions w...</td>\n",
       "      <td>/s\\n\\nYou can delete this, if this is isn't su...</td>\n",
       "      <td>solotravel</td>\n",
       "      <td>rakahr11</td>\n",
       "    </tr>\n",
       "    <tr>\n",
       "      <th>2</th>\n",
       "      <td>2</td>\n",
       "      <td>Is It Expensive Traveling With A Flexible Itin...</td>\n",
       "      <td>I'm planning my first solo trip, hopefully, an...</td>\n",
       "      <td>solotravel</td>\n",
       "      <td>Custer_Had_It_Coming</td>\n",
       "    </tr>\n",
       "    <tr>\n",
       "      <th>3</th>\n",
       "      <td>3</td>\n",
       "      <td>Mistakes whilst travelling solo</td>\n",
       "      <td>I have personally made many mistakes whilst tr...</td>\n",
       "      <td>solotravel</td>\n",
       "      <td>aspoonfullofacid</td>\n",
       "    </tr>\n",
       "    <tr>\n",
       "      <th>4</th>\n",
       "      <td>4</td>\n",
       "      <td>Weak passport holders- how do you travel spont...</td>\n",
       "      <td>So I plan to travel once it is safe to travel....</td>\n",
       "      <td>solotravel</td>\n",
       "      <td>ruchigandhi22</td>\n",
       "    </tr>\n",
       "  </tbody>\n",
       "</table>\n",
       "</div>"
      ],
      "text/plain": [
       "   index                                              title  \\\n",
       "0      0  New to solo travel? Post here for introduction...   \n",
       "1      1  Hi! Can someone tell me how the restrictions w...   \n",
       "2      2  Is It Expensive Traveling With A Flexible Itin...   \n",
       "3      3                    Mistakes whilst travelling solo   \n",
       "4      4  Weak passport holders- how do you travel spont...   \n",
       "\n",
       "                                            selftext   subreddit  \\\n",
       "0  **!!NEW!!**\\n\\n* **Are you planning your first...  solotravel   \n",
       "1  /s\\n\\nYou can delete this, if this is isn't su...  solotravel   \n",
       "2  I'm planning my first solo trip, hopefully, an...  solotravel   \n",
       "3  I have personally made many mistakes whilst tr...  solotravel   \n",
       "4  So I plan to travel once it is safe to travel....  solotravel   \n",
       "\n",
       "                 author  \n",
       "0         AutoModerator  \n",
       "1              rakahr11  \n",
       "2  Custer_Had_It_Coming  \n",
       "3      aspoonfullofacid  \n",
       "4         ruchigandhi22  "
      ]
     },
     "execution_count": 6,
     "metadata": {},
     "output_type": "execute_result"
    }
   ],
   "source": [
    "# Checking changes\n",
    "combined_df.head()"
   ]
  },
  {
   "cell_type": "code",
   "execution_count": 7,
   "metadata": {},
   "outputs": [
    {
     "data": {
      "text/html": [
       "<div>\n",
       "<style scoped>\n",
       "    .dataframe tbody tr th:only-of-type {\n",
       "        vertical-align: middle;\n",
       "    }\n",
       "\n",
       "    .dataframe tbody tr th {\n",
       "        vertical-align: top;\n",
       "    }\n",
       "\n",
       "    .dataframe thead th {\n",
       "        text-align: right;\n",
       "    }\n",
       "</style>\n",
       "<table border=\"1\" class=\"dataframe\">\n",
       "  <thead>\n",
       "    <tr style=\"text-align: right;\">\n",
       "      <th></th>\n",
       "      <th>index</th>\n",
       "      <th>title</th>\n",
       "      <th>selftext</th>\n",
       "      <th>subreddit</th>\n",
       "      <th>author</th>\n",
       "    </tr>\n",
       "  </thead>\n",
       "  <tbody>\n",
       "    <tr>\n",
       "      <th>1864</th>\n",
       "      <td>3443</td>\n",
       "      <td>Itinerary Check - [Fukuoka - Hiroshima - Kyoto...</td>\n",
       "      <td>Hello /r/JapanTravel, I've been making plans f...</td>\n",
       "      <td>JapanTravel</td>\n",
       "      <td>Sazerfan</td>\n",
       "    </tr>\n",
       "    <tr>\n",
       "      <th>1865</th>\n",
       "      <td>3444</td>\n",
       "      <td>Tokyo Itinerary First, Rough Draft - a little ...</td>\n",
       "      <td>First-timer (to this Reddit and Japan) here. :...</td>\n",
       "      <td>JapanTravel</td>\n",
       "      <td>aliawani</td>\n",
       "    </tr>\n",
       "    <tr>\n",
       "      <th>1866</th>\n",
       "      <td>3445</td>\n",
       "      <td>USJ vs Universal Studios in Orlando?</td>\n",
       "      <td>Hey, I'll probably be visiting this subreddit ...</td>\n",
       "      <td>JapanTravel</td>\n",
       "      <td>whiskeyii</td>\n",
       "    </tr>\n",
       "    <tr>\n",
       "      <th>1867</th>\n",
       "      <td>3446</td>\n",
       "      <td>What am I missing by not staying more than 6 d...</td>\n",
       "      <td>Technically 7 since my flight would leave at 8...</td>\n",
       "      <td>JapanTravel</td>\n",
       "      <td>Malarazz</td>\n",
       "    </tr>\n",
       "    <tr>\n",
       "      <th>1868</th>\n",
       "      <td>3447</td>\n",
       "      <td>Training in Japan</td>\n",
       "      <td>I'm a high level para-athlete (sprinter) and a...</td>\n",
       "      <td>JapanTravel</td>\n",
       "      <td>Nils6789</td>\n",
       "    </tr>\n",
       "  </tbody>\n",
       "</table>\n",
       "</div>"
      ],
      "text/plain": [
       "      index                                              title  \\\n",
       "1864   3443  Itinerary Check - [Fukuoka - Hiroshima - Kyoto...   \n",
       "1865   3444  Tokyo Itinerary First, Rough Draft - a little ...   \n",
       "1866   3445               USJ vs Universal Studios in Orlando?   \n",
       "1867   3446  What am I missing by not staying more than 6 d...   \n",
       "1868   3447                                  Training in Japan   \n",
       "\n",
       "                                               selftext    subreddit  \\\n",
       "1864  Hello /r/JapanTravel, I've been making plans f...  JapanTravel   \n",
       "1865  First-timer (to this Reddit and Japan) here. :...  JapanTravel   \n",
       "1866  Hey, I'll probably be visiting this subreddit ...  JapanTravel   \n",
       "1867  Technically 7 since my flight would leave at 8...  JapanTravel   \n",
       "1868  I'm a high level para-athlete (sprinter) and a...  JapanTravel   \n",
       "\n",
       "         author  \n",
       "1864   Sazerfan  \n",
       "1865   aliawani  \n",
       "1866  whiskeyii  \n",
       "1867   Malarazz  \n",
       "1868   Nils6789  "
      ]
     },
     "execution_count": 7,
     "metadata": {},
     "output_type": "execute_result"
    }
   ],
   "source": [
    "# Checking changes\n",
    "combined_df.tail()"
   ]
  },
  {
   "cell_type": "markdown",
   "metadata": {},
   "source": [
    "I'll have to drop the extra 'index' column"
   ]
  },
  {
   "cell_type": "code",
   "execution_count": 8,
   "metadata": {},
   "outputs": [],
   "source": [
    "# Dropping the 'index' column\n",
    "combined_df.drop(labels = 'index', axis=1, inplace = True)"
   ]
  },
  {
   "cell_type": "code",
   "execution_count": 9,
   "metadata": {},
   "outputs": [
    {
     "data": {
      "text/plain": [
       "(1869, 4)"
      ]
     },
     "execution_count": 9,
     "metadata": {},
     "output_type": "execute_result"
    }
   ],
   "source": [
    "# Checking how many data points we have left\n",
    "combined_df.shape"
   ]
  },
  {
   "cell_type": "markdown",
   "metadata": {},
   "source": [
    "solotravel posts range from index 0 to 890\n",
    "japantravel posts range from index 891 to 1868"
   ]
  },
  {
   "cell_type": "markdown",
   "metadata": {},
   "source": [
    "Let's explore a few of the posts, first looking at the pinned posts, and then at other normal posts"
   ]
  },
  {
   "cell_type": "code",
   "execution_count": 10,
   "metadata": {},
   "outputs": [],
   "source": [
    "#Make it easier to access the japan and solotravel subreddits\n",
    "japan = combined_df['subreddit']=='JapanTravel'\n",
    "solo = combined_df['subreddit']=='solotravel'"
   ]
  },
  {
   "cell_type": "code",
   "execution_count": 11,
   "metadata": {},
   "outputs": [
    {
     "data": {
      "text/plain": [
       "\"**!!NEW!!**\\n\\n* **Are you planning your first big trip to Europe? Check out our [brand-new, detailed guide to planning a solo Eurotrip](https://www.reddit.com/r/solotravel/wiki/eurotrip)!**\\n\\n* **Are you nervous about the Coronavirus outbreak? Have questions? Check out the discussion and online resources in our [Coronavirus megathread](https://www.reddit.com/r/solotravel/comments/gj4gab/coronavirus_faq_megathread_part_5/).**\\n\\n~\\n\\nThe purpose of this thread is for new and/or anxious travellers to **introduce themselves, ask 'newbie' questions about solo travel, and receive advice and encouragement**. This is also a thread where it is OK to ask questions that would otherwise be considered vague or repetitive under the normal subreddit rules.\\n\\nIf you're new to our community, please read the subreddit rules in the sidebar before posting. If you're new to solo travel in general, we suggest that you check out some of the resources available on our [**wiki**](https://www.reddit.com/r/solotravel/wiki/index), which we are currently working on improving and expanding. Here are some helpful wiki links:\\n\\n* [Trip planning](https://www.reddit.com/r/solotravel/wiki/btt)\\n* [Solo travel and mental health (depression/anxiety)](https://www.reddit.com/r/solotravel/wiki/mentalhealth)\\n* [Working abroad](https://www.reddit.com/r/solotravel/wiki/workingabroad)\\n* [Resources for female, POC and LGBTQ+ travellers](https://www.reddit.com/r/solotravel/wiki/groupresources)\\n* [Other FAQs](https://www.reddit.com/r/solotravel/wiki/faq)\\n\\nNote that as this thread is intended to be a welcoming space for less experienced or anxious travellers, **comments engaging in newbie shaming or travel gatekeeping are not acceptable and will be removed.**\""
      ]
     },
     "execution_count": 11,
     "metadata": {},
     "output_type": "execute_result"
    }
   ],
   "source": [
    "# solotravel post that is pinned to the top of the subreddit\n",
    "combined_df['selftext'][solo][0]"
   ]
  },
  {
   "cell_type": "code",
   "execution_count": 12,
   "metadata": {},
   "outputs": [
    {
     "data": {
      "text/plain": [
       "'**Welcome to /r/JapanTravel’s Tourism by Prefecture series!**\\n\\nThis is a series of monthly megathreads grouped by city/prefecture where users can submit their recommendations for things to see and do in that area. \\n\\n**We have rebooted this series by focusing on Cities in Japan, so please give us your Best Of for Naha, or other cities or towns in Okinawa Prefecture!** Please leave the recommendations that you would suggest others take the time to see when they get the chance to travel again. At the end of the month, we will post a new thread with a new city to recommend! [You can view past Tourism by Prefecture megathreads here.](https://www.reddit.com/r/JapanTravel/search?q=tourism+by+prefecture)\\n\\n**Please use the template below to format your reply:**\\n\\n&gt;Name:  \\n\\n&gt;Description:  \\n\\n&gt;Google Maps Link/Access Info:  \\n\\n&gt;Cost (¥):  \\n\\n&gt;About:  \\n\\n&gt;I would recommend this to:  \\n\\n\\n**At this time we are only encouraging discussion on this topic, any questions that are off-topic will be removed.**'"
      ]
     },
     "execution_count": 12,
     "metadata": {},
     "output_type": "execute_result"
    }
   ],
   "source": [
    "# JapanTravel post that is pinned to the top of the subreddit\n",
    "combined_df['selftext'][japan][892]"
   ]
  },
  {
   "cell_type": "markdown",
   "metadata": {},
   "source": [
    "These are the first posts on the subreddit. Normally they are pinned, meaning they remain at the top of the forum. These are normally long posts with a lot of formatting involved. Examples include:\n",
    "\n",
    "- **New lines**, represented by '\\n'\n",
    "- **Backslashes**, like '/r'. '/r' tells you you're in reddit, but it's useless information for our task, so it should be removed.\n",
    "- **Characters**, like '*', '&', ';', '¥'. It may seem like you can tell what subreddit a post is from by seeing how many characters there are. After all, doesn't the Japanese post look like it has more of these characters than the one in Solo? Besides '¥' (yen symbol), the other characters are simply a quirk of formatting, so while keeping the yen symbol will be useful, the others are not.\n",
    "- **Weblinks**, characterised by square brackets followed by round brackets, like so '\\[\\]\\(\\)'. This will have to be removed with regular expressions.\n",
    "\n",
    "As the goal is classification, not sentiment analysis, other characters like '!' for emphasis is not useful either.\n"
   ]
  },
  {
   "cell_type": "markdown",
   "metadata": {},
   "source": [
    "Looking at the other posts now"
   ]
  },
  {
   "cell_type": "code",
   "execution_count": 13,
   "metadata": {},
   "outputs": [
    {
     "data": {
      "text/plain": [
       "\"I'm planning my first solo trip, hopefully, and optimistically sometime this summer, and I want this trip to be as open-ended and flexible as possible.  I've really taken to the concept of traveling with no concrete dates, in sort of a nomadic fashion, just staying in a city or country until I get bored and deciding a week or less out where I want to go next and when.  I've seen many posts here and follow many travel vlogers who travel like this and I've been inspired.\\n\\nHowever, it seems to me that this style of travel would be much more expensive, particularly when booking flights on such short notice.  Am I wrong?  Is there a good strategy to save money on flights when traveling in this style?\\n\\nTo add more specifics, I'm planning on traveling to Turkey, and then from there, I would like to continue on to at least one or two more countries nearby in the Middle East or the Mediterranean.\\n\\nEdit: Added more specifics.\""
      ]
     },
     "execution_count": 13,
     "metadata": {},
     "output_type": "execute_result"
    }
   ],
   "source": [
    "# Example of a solotravel post\n",
    "combined_df['selftext'][solo][2]"
   ]
  },
  {
   "cell_type": "code",
   "execution_count": 14,
   "metadata": {},
   "outputs": [
    {
     "data": {
      "text/plain": [
       "'Hi there fellow travellers,\\n\\nWe are thinking of travelling to Japan in September 2021 and part of our trip includes 4 days in Hokkaido. We wish to rent a car there however we are finding it particularly difficult to ascertain whether the larger cars available (Toyota Alphard / Nissan Elgrand etc) are able to fit 6 men with their 80-100L rucksacks (no hard cases)\\n\\nAnyone has any tips to share re Hokkaido driving in large group and luggage space? We have seen videos of some of these typical models and they seem to have adjustable seats. Not sure if there is a roof racks / roof boxes option as that would greatly help.'"
      ]
     },
     "execution_count": 14,
     "metadata": {},
     "output_type": "execute_result"
    }
   ],
   "source": [
    "# Example of a JapanTravel post\n",
    "combined_df['selftext'][japan][893]"
   ]
  },
  {
   "cell_type": "code",
   "execution_count": 15,
   "metadata": {},
   "outputs": [
    {
     "data": {
      "text/plain": [
       "\"So I plan to travel once it is safe to travel. My idea initially was to take a break from my job and travel for 3 months backpacking across Europe. But seems like that plan will take a while due to the pandemic. \\n\\nMy question is, how do people with weak passports plan their trips in respect to visa? I am from India so my passport isn't the best. I love on the spot plans and just hate booking  hotels in advance as sometimes I want to stay longer and sometimes I want to move fast. But due to visa issues I have to book everything in advance which sucks. How do you guys manage? Dummy booking? \\n\\nIf this Europe plan doesn't work out, I am thinking of backpacking in Asia. Any suggestions? I have been to Thailand, bali and Malaysia already ( wouldn't mind repeating thou) . Again I don't know how to plan a flexible travel as most of the countries in Asia too require me to book flights or hotels in advance. Any tips?\""
      ]
     },
     "execution_count": 15,
     "metadata": {},
     "output_type": "execute_result"
    }
   ],
   "source": [
    "# Another solotravel post\n",
    "combined_df['selftext'][solo][4]"
   ]
  },
  {
   "cell_type": "code",
   "execution_count": 16,
   "metadata": {},
   "outputs": [
    {
     "data": {
      "text/plain": [
       "'My Phone fell down somedays ago and now has a crack in the screen. Can the apple store still repair the screen or is that not possible. because i have a german phone and that doesn’t, like the japanese phones, have the shutter sound permanently enabled. would be good to know.\\nthanks for any help and sorry for my bad english.'"
      ]
     },
     "execution_count": 16,
     "metadata": {},
     "output_type": "execute_result"
    }
   ],
   "source": [
    "# Another JapanTravel post\n",
    "combined_df['selftext'][japan][895]"
   ]
  },
  {
   "cell_type": "markdown",
   "metadata": {},
   "source": [
    "It seems Solo travel is more dedicated to Europe, while Japan is, not surprisingly, focused on Japan. A post from above about AirBnB mentions \"I'm traveling solo\", so the model could have difficulty classifying ths pots properly. However, it does mention Shibuya and Ghibli.\n",
    "\n",
    "Solo travel also seems to discuss 'flexibility' more, with concerns about flexible travel (e.g. '...I don't know how to plan a flexible travel...').\n",
    "\n",
    "Japan might have more posts with the word 'we' inside it. This suggests that removing stop words might not be a good idea. "
   ]
  },
  {
   "cell_type": "markdown",
   "metadata": {},
   "source": [
    "## Section 2: Pre-processing the text data"
   ]
  },
  {
   "cell_type": "markdown",
   "metadata": {},
   "source": [
    "The posts need to be pre-processed before proper exploration.\n",
    "\n",
    "I will want to remove:\n",
    "\n",
    "- **New lines**, represented by '\\n'\n",
    "- **Backslashes**, like '/r'\n",
    "- **Characters**, like '*', '&', ';', '¥'. Besides '¥' (yen symbol)\n",
    "- **Weblinks**, characterised by square brackets followed by round brackets, like so '\\[\\]\\(\\)'. I will remove the url in the round brackets and remove both square and round brackets, though I will keep the text in the square brackets."
   ]
  },
  {
   "cell_type": "code",
   "execution_count": 17,
   "metadata": {},
   "outputs": [],
   "source": [
    "# Define a class to process the text\n",
    "class Processor:\n",
    "    \n",
    "    # Initiate the Processor class, taking a dataframe as input\n",
    "    def __init__(self, dataframe):\n",
    "        \"\"\"\n",
    "        Input: A pandas Series of subreddit posts and titles for pre-processing.\n",
    "        \"\"\"\n",
    "        self.dataframe = dataframe\n",
    "        \n",
    "    def pre_process(self):\n",
    "        \"\"\"\n",
    "        Output: A pandas Series of subreddit posts and titles that have been processed.\n",
    "        \"\"\"\n",
    "    \n",
    "        #Processing the posts\n",
    "        for index, post in enumerate(self.dataframe['selftext']):\n",
    "\n",
    "            #We need a try and except because some posts are empty\n",
    "            try:\n",
    "                #Lowercase everything\n",
    "                post = post.lower()\n",
    "\n",
    "                #Replace \"\\n\" with empty string\n",
    "                post = post.replace(\"\\n\", \"\")\n",
    "\n",
    "                #Replace \"r/\" with empty string\n",
    "                post = post.replace(\"r/\", \"\")\n",
    "\n",
    "                #Remove url links\n",
    "                post = re.sub(r'http[^)]+', '', post)\n",
    "                post = re.sub(r'www[^)]+', '', post)\n",
    "                post = re.sub(r'.com+', '', post)\n",
    "\n",
    "                #Remove special characters like \"*\" or \"&\". Leave \"¥\" inside because it gives good information\n",
    "                #Replace with white space so that the words can be separated\n",
    "                post = re.sub('[^A-Za-z0-9¥ ]+', ' ', post)\n",
    "\n",
    "            #Some posts do not have a body, i.e. 'selftext' is empty. Replace these with 'no_text'\n",
    "            except:\n",
    "                post = \"no_text\"\n",
    "            \n",
    "            #Save the processed post\n",
    "            self.dataframe.loc[index, 'selftext'] = post\n",
    "\n",
    "        #Processing the title the same way\n",
    "        for index, title in enumerate(self.dataframe['title']):\n",
    "\n",
    "\n",
    "            #Lowercase everything\n",
    "            title = title.lower()\n",
    "\n",
    "            #Replace \"\\n\" with empty string\n",
    "            title = title.replace(\"\\n\", \"\")\n",
    "\n",
    "            #Replace \"r/\" with empty string\n",
    "            title = title.replace(\"r/\", \"\")\n",
    "\n",
    "            #Remove url links\n",
    "            title = re.sub(r'http[^)]+', '', title)\n",
    "            title = re.sub(r'www[^)]+', '', title)\n",
    "            title = re.sub(r'.com+', '', title)\n",
    "\n",
    "            #Remove special characters like \"*\" or \"&\". Leave \"¥\" inside because it gives good information\n",
    "            #Replace with white space so that the words can be separated\n",
    "            title = re.sub('[^A-Za-z0-9¥ ]+', ' ', title)\n",
    "\n",
    "            #Save the processed title\n",
    "            self.dataframe.loc[index, 'title'] = title\n",
    "        \n",
    "        # Return the processed dataframe\n",
    "        return self.dataframe\n",
    "    \n"
   ]
  },
  {
   "cell_type": "code",
   "execution_count": 1,
   "metadata": {},
   "outputs": [
    {
     "ename": "NameError",
     "evalue": "name 'Processor' is not defined",
     "output_type": "error",
     "traceback": [
      "\u001b[1;31m---------------------------------------------------------------------------\u001b[0m",
      "\u001b[1;31mNameError\u001b[0m                                 Traceback (most recent call last)",
      "\u001b[1;32m<ipython-input-1-730f72efbcba>\u001b[0m in \u001b[0;36m<module>\u001b[1;34m\u001b[0m\n\u001b[0;32m      1\u001b[0m \u001b[1;31m#instantiate Processor class\u001b[0m\u001b[1;33m\u001b[0m\u001b[1;33m\u001b[0m\u001b[1;33m\u001b[0m\u001b[0m\n\u001b[1;32m----> 2\u001b[1;33m \u001b[0mcombined_processor\u001b[0m \u001b[1;33m=\u001b[0m \u001b[0mProcessor\u001b[0m\u001b[1;33m(\u001b[0m\u001b[0mcombined_df\u001b[0m\u001b[1;33m)\u001b[0m\u001b[1;33m\u001b[0m\u001b[1;33m\u001b[0m\u001b[0m\n\u001b[0m",
      "\u001b[1;31mNameError\u001b[0m: name 'Processor' is not defined"
     ]
    }
   ],
   "source": [
    "#instantiate Processor class\n",
    "combined_processor = Processor(combined_df)"
   ]
  },
  {
   "cell_type": "code",
   "execution_count": 19,
   "metadata": {},
   "outputs": [],
   "source": [
    "#do pre_processing\n",
    "combined_df = combined_processor.pre_process()"
   ]
  },
  {
   "cell_type": "code",
   "execution_count": 20,
   "metadata": {},
   "outputs": [
    {
     "data": {
      "text/html": [
       "<div>\n",
       "<style scoped>\n",
       "    .dataframe tbody tr th:only-of-type {\n",
       "        vertical-align: middle;\n",
       "    }\n",
       "\n",
       "    .dataframe tbody tr th {\n",
       "        vertical-align: top;\n",
       "    }\n",
       "\n",
       "    .dataframe thead th {\n",
       "        text-align: right;\n",
       "    }\n",
       "</style>\n",
       "<table border=\"1\" class=\"dataframe\">\n",
       "  <thead>\n",
       "    <tr style=\"text-align: right;\">\n",
       "      <th></th>\n",
       "      <th>title</th>\n",
       "      <th>selftext</th>\n",
       "      <th>subreddit</th>\n",
       "      <th>author</th>\n",
       "    </tr>\n",
       "  </thead>\n",
       "  <tbody>\n",
       "    <tr>\n",
       "      <th>0</th>\n",
       "      <td>new to solo travel  post here for introduction...</td>\n",
       "      <td>new   are you planning your first big trip to...</td>\n",
       "      <td>solotravel</td>\n",
       "      <td>AutoModerator</td>\n",
       "    </tr>\n",
       "    <tr>\n",
       "      <th>1</th>\n",
       "      <td>hi  can someone tell me how the restrictions w...</td>\n",
       "      <td>syou can delete this  if this is isn t suppos...</td>\n",
       "      <td>solotravel</td>\n",
       "      <td>rakahr11</td>\n",
       "    </tr>\n",
       "    <tr>\n",
       "      <th>2</th>\n",
       "      <td>is it expensive traveling with a flexible itin...</td>\n",
       "      <td>i m planning my first solo trip  hopefully  an...</td>\n",
       "      <td>solotravel</td>\n",
       "      <td>Custer_Had_It_Coming</td>\n",
       "    </tr>\n",
       "    <tr>\n",
       "      <th>3</th>\n",
       "      <td>mistakes whilst travelling solo</td>\n",
       "      <td>i have personally made many mistakes whilst tr...</td>\n",
       "      <td>solotravel</td>\n",
       "      <td>aspoonfullofacid</td>\n",
       "    </tr>\n",
       "    <tr>\n",
       "      <th>4</th>\n",
       "      <td>weak passport holders  how do you travel spont...</td>\n",
       "      <td>so i plan to travel once it is safe to travel ...</td>\n",
       "      <td>solotravel</td>\n",
       "      <td>ruchigandhi22</td>\n",
       "    </tr>\n",
       "  </tbody>\n",
       "</table>\n",
       "</div>"
      ],
      "text/plain": [
       "                                               title  \\\n",
       "0  new to solo travel  post here for introduction...   \n",
       "1  hi  can someone tell me how the restrictions w...   \n",
       "2  is it expensive traveling with a flexible itin...   \n",
       "3                    mistakes whilst travelling solo   \n",
       "4  weak passport holders  how do you travel spont...   \n",
       "\n",
       "                                            selftext   subreddit  \\\n",
       "0   new   are you planning your first big trip to...  solotravel   \n",
       "1   syou can delete this  if this is isn t suppos...  solotravel   \n",
       "2  i m planning my first solo trip  hopefully  an...  solotravel   \n",
       "3  i have personally made many mistakes whilst tr...  solotravel   \n",
       "4  so i plan to travel once it is safe to travel ...  solotravel   \n",
       "\n",
       "                 author  \n",
       "0         AutoModerator  \n",
       "1              rakahr11  \n",
       "2  Custer_Had_It_Coming  \n",
       "3      aspoonfullofacid  \n",
       "4         ruchigandhi22  "
      ]
     },
     "execution_count": 20,
     "metadata": {},
     "output_type": "execute_result"
    }
   ],
   "source": [
    "#Check the solotravel posts\n",
    "combined_df.head(5)"
   ]
  },
  {
   "cell_type": "code",
   "execution_count": 21,
   "metadata": {},
   "outputs": [
    {
     "data": {
      "text/html": [
       "<div>\n",
       "<style scoped>\n",
       "    .dataframe tbody tr th:only-of-type {\n",
       "        vertical-align: middle;\n",
       "    }\n",
       "\n",
       "    .dataframe tbody tr th {\n",
       "        vertical-align: top;\n",
       "    }\n",
       "\n",
       "    .dataframe thead th {\n",
       "        text-align: right;\n",
       "    }\n",
       "</style>\n",
       "<table border=\"1\" class=\"dataframe\">\n",
       "  <thead>\n",
       "    <tr style=\"text-align: right;\">\n",
       "      <th></th>\n",
       "      <th>title</th>\n",
       "      <th>selftext</th>\n",
       "      <th>subreddit</th>\n",
       "      <th>author</th>\n",
       "    </tr>\n",
       "  </thead>\n",
       "  <tbody>\n",
       "    <tr>\n",
       "      <th>1864</th>\n",
       "      <td>itinerary check    fukuoka   hiroshima   kyoto...</td>\n",
       "      <td>hello  japantravel  i ve been making plans for...</td>\n",
       "      <td>JapanTravel</td>\n",
       "      <td>Sazerfan</td>\n",
       "    </tr>\n",
       "    <tr>\n",
       "      <th>1865</th>\n",
       "      <td>tokyo itinerary first  rough draft   a little ...</td>\n",
       "      <td>first timer  to this reddit and japan  here   ...</td>\n",
       "      <td>JapanTravel</td>\n",
       "      <td>aliawani</td>\n",
       "    </tr>\n",
       "    <tr>\n",
       "      <th>1866</th>\n",
       "      <td>usj vs universal studios in orlando</td>\n",
       "      <td>hey  i ll probably be visiting this subreddit ...</td>\n",
       "      <td>JapanTravel</td>\n",
       "      <td>whiskeyii</td>\n",
       "    </tr>\n",
       "    <tr>\n",
       "      <th>1867</th>\n",
       "      <td>what am i missing by not staying more than 6 d...</td>\n",
       "      <td>technically 7 since my flight would leave at 8...</td>\n",
       "      <td>JapanTravel</td>\n",
       "      <td>Malarazz</td>\n",
       "    </tr>\n",
       "    <tr>\n",
       "      <th>1868</th>\n",
       "      <td>training in japan</td>\n",
       "      <td>i m a high level para athlete  sprinter  and a...</td>\n",
       "      <td>JapanTravel</td>\n",
       "      <td>Nils6789</td>\n",
       "    </tr>\n",
       "  </tbody>\n",
       "</table>\n",
       "</div>"
      ],
      "text/plain": [
       "                                                  title  \\\n",
       "1864  itinerary check    fukuoka   hiroshima   kyoto...   \n",
       "1865  tokyo itinerary first  rough draft   a little ...   \n",
       "1866               usj vs universal studios in orlando    \n",
       "1867  what am i missing by not staying more than 6 d...   \n",
       "1868                                  training in japan   \n",
       "\n",
       "                                               selftext    subreddit  \\\n",
       "1864  hello  japantravel  i ve been making plans for...  JapanTravel   \n",
       "1865  first timer  to this reddit and japan  here   ...  JapanTravel   \n",
       "1866  hey  i ll probably be visiting this subreddit ...  JapanTravel   \n",
       "1867  technically 7 since my flight would leave at 8...  JapanTravel   \n",
       "1868  i m a high level para athlete  sprinter  and a...  JapanTravel   \n",
       "\n",
       "         author  \n",
       "1864   Sazerfan  \n",
       "1865   aliawani  \n",
       "1866  whiskeyii  \n",
       "1867   Malarazz  \n",
       "1868   Nils6789  "
      ]
     },
     "execution_count": 21,
     "metadata": {},
     "output_type": "execute_result"
    }
   ],
   "source": [
    "#Check the JapanTravel posts\n",
    "combined_df.tail(5)"
   ]
  },
  {
   "cell_type": "code",
   "execution_count": 22,
   "metadata": {},
   "outputs": [],
   "source": [
    "#Convert subreddit binary variable to 0 and 1\n",
    "# JapanTravel = 1\n",
    "# solotravel = 0\n",
    "combined_df['subreddit'][combined_df['subreddit']=='JapanTravel'] = 1\n",
    "combined_df['subreddit'][combined_df['subreddit']=='solotravel'] = 0"
   ]
  },
  {
   "cell_type": "code",
   "execution_count": 23,
   "metadata": {},
   "outputs": [
    {
     "data": {
      "text/html": [
       "<div>\n",
       "<style scoped>\n",
       "    .dataframe tbody tr th:only-of-type {\n",
       "        vertical-align: middle;\n",
       "    }\n",
       "\n",
       "    .dataframe tbody tr th {\n",
       "        vertical-align: top;\n",
       "    }\n",
       "\n",
       "    .dataframe thead th {\n",
       "        text-align: right;\n",
       "    }\n",
       "</style>\n",
       "<table border=\"1\" class=\"dataframe\">\n",
       "  <thead>\n",
       "    <tr style=\"text-align: right;\">\n",
       "      <th></th>\n",
       "      <th>title</th>\n",
       "      <th>selftext</th>\n",
       "      <th>subreddit</th>\n",
       "      <th>author</th>\n",
       "    </tr>\n",
       "  </thead>\n",
       "  <tbody>\n",
       "    <tr>\n",
       "      <th>0</th>\n",
       "      <td>new to solo travel  post here for introduction...</td>\n",
       "      <td>new   are you planning your first big trip to...</td>\n",
       "      <td>0</td>\n",
       "      <td>AutoModerator</td>\n",
       "    </tr>\n",
       "    <tr>\n",
       "      <th>1</th>\n",
       "      <td>hi  can someone tell me how the restrictions w...</td>\n",
       "      <td>syou can delete this  if this is isn t suppos...</td>\n",
       "      <td>0</td>\n",
       "      <td>rakahr11</td>\n",
       "    </tr>\n",
       "    <tr>\n",
       "      <th>2</th>\n",
       "      <td>is it expensive traveling with a flexible itin...</td>\n",
       "      <td>i m planning my first solo trip  hopefully  an...</td>\n",
       "      <td>0</td>\n",
       "      <td>Custer_Had_It_Coming</td>\n",
       "    </tr>\n",
       "    <tr>\n",
       "      <th>3</th>\n",
       "      <td>mistakes whilst travelling solo</td>\n",
       "      <td>i have personally made many mistakes whilst tr...</td>\n",
       "      <td>0</td>\n",
       "      <td>aspoonfullofacid</td>\n",
       "    </tr>\n",
       "    <tr>\n",
       "      <th>4</th>\n",
       "      <td>weak passport holders  how do you travel spont...</td>\n",
       "      <td>so i plan to travel once it is safe to travel ...</td>\n",
       "      <td>0</td>\n",
       "      <td>ruchigandhi22</td>\n",
       "    </tr>\n",
       "  </tbody>\n",
       "</table>\n",
       "</div>"
      ],
      "text/plain": [
       "                                               title  \\\n",
       "0  new to solo travel  post here for introduction...   \n",
       "1  hi  can someone tell me how the restrictions w...   \n",
       "2  is it expensive traveling with a flexible itin...   \n",
       "3                    mistakes whilst travelling solo   \n",
       "4  weak passport holders  how do you travel spont...   \n",
       "\n",
       "                                            selftext subreddit  \\\n",
       "0   new   are you planning your first big trip to...         0   \n",
       "1   syou can delete this  if this is isn t suppos...         0   \n",
       "2  i m planning my first solo trip  hopefully  an...         0   \n",
       "3  i have personally made many mistakes whilst tr...         0   \n",
       "4  so i plan to travel once it is safe to travel ...         0   \n",
       "\n",
       "                 author  \n",
       "0         AutoModerator  \n",
       "1              rakahr11  \n",
       "2  Custer_Had_It_Coming  \n",
       "3      aspoonfullofacid  \n",
       "4         ruchigandhi22  "
      ]
     },
     "execution_count": 23,
     "metadata": {},
     "output_type": "execute_result"
    }
   ],
   "source": [
    "#Check solotravel subreddit\n",
    "combined_df.head()"
   ]
  },
  {
   "cell_type": "code",
   "execution_count": 24,
   "metadata": {},
   "outputs": [
    {
     "data": {
      "text/html": [
       "<div>\n",
       "<style scoped>\n",
       "    .dataframe tbody tr th:only-of-type {\n",
       "        vertical-align: middle;\n",
       "    }\n",
       "\n",
       "    .dataframe tbody tr th {\n",
       "        vertical-align: top;\n",
       "    }\n",
       "\n",
       "    .dataframe thead th {\n",
       "        text-align: right;\n",
       "    }\n",
       "</style>\n",
       "<table border=\"1\" class=\"dataframe\">\n",
       "  <thead>\n",
       "    <tr style=\"text-align: right;\">\n",
       "      <th></th>\n",
       "      <th>title</th>\n",
       "      <th>selftext</th>\n",
       "      <th>subreddit</th>\n",
       "      <th>author</th>\n",
       "    </tr>\n",
       "  </thead>\n",
       "  <tbody>\n",
       "    <tr>\n",
       "      <th>1864</th>\n",
       "      <td>itinerary check    fukuoka   hiroshima   kyoto...</td>\n",
       "      <td>hello  japantravel  i ve been making plans for...</td>\n",
       "      <td>1</td>\n",
       "      <td>Sazerfan</td>\n",
       "    </tr>\n",
       "    <tr>\n",
       "      <th>1865</th>\n",
       "      <td>tokyo itinerary first  rough draft   a little ...</td>\n",
       "      <td>first timer  to this reddit and japan  here   ...</td>\n",
       "      <td>1</td>\n",
       "      <td>aliawani</td>\n",
       "    </tr>\n",
       "    <tr>\n",
       "      <th>1866</th>\n",
       "      <td>usj vs universal studios in orlando</td>\n",
       "      <td>hey  i ll probably be visiting this subreddit ...</td>\n",
       "      <td>1</td>\n",
       "      <td>whiskeyii</td>\n",
       "    </tr>\n",
       "    <tr>\n",
       "      <th>1867</th>\n",
       "      <td>what am i missing by not staying more than 6 d...</td>\n",
       "      <td>technically 7 since my flight would leave at 8...</td>\n",
       "      <td>1</td>\n",
       "      <td>Malarazz</td>\n",
       "    </tr>\n",
       "    <tr>\n",
       "      <th>1868</th>\n",
       "      <td>training in japan</td>\n",
       "      <td>i m a high level para athlete  sprinter  and a...</td>\n",
       "      <td>1</td>\n",
       "      <td>Nils6789</td>\n",
       "    </tr>\n",
       "  </tbody>\n",
       "</table>\n",
       "</div>"
      ],
      "text/plain": [
       "                                                  title  \\\n",
       "1864  itinerary check    fukuoka   hiroshima   kyoto...   \n",
       "1865  tokyo itinerary first  rough draft   a little ...   \n",
       "1866               usj vs universal studios in orlando    \n",
       "1867  what am i missing by not staying more than 6 d...   \n",
       "1868                                  training in japan   \n",
       "\n",
       "                                               selftext subreddit     author  \n",
       "1864  hello  japantravel  i ve been making plans for...         1   Sazerfan  \n",
       "1865  first timer  to this reddit and japan  here   ...         1   aliawani  \n",
       "1866  hey  i ll probably be visiting this subreddit ...         1  whiskeyii  \n",
       "1867  technically 7 since my flight would leave at 8...         1   Malarazz  \n",
       "1868  i m a high level para athlete  sprinter  and a...         1   Nils6789  "
      ]
     },
     "execution_count": 24,
     "metadata": {},
     "output_type": "execute_result"
    }
   ],
   "source": [
    "#Check JapanTravel subreddit\n",
    "combined_df.tail()"
   ]
  },
  {
   "cell_type": "markdown",
   "metadata": {},
   "source": [
    "I gathered the 'author' variable in case the information was valuable, but there's too many authors"
   ]
  },
  {
   "cell_type": "code",
   "execution_count": 25,
   "metadata": {},
   "outputs": [],
   "source": [
    "#Dropping 'author' column\n",
    "combined_df.drop(labels = 'author', axis=1, inplace = True)"
   ]
  },
  {
   "cell_type": "code",
   "execution_count": 26,
   "metadata": {},
   "outputs": [
    {
     "data": {
      "text/html": [
       "<div>\n",
       "<style scoped>\n",
       "    .dataframe tbody tr th:only-of-type {\n",
       "        vertical-align: middle;\n",
       "    }\n",
       "\n",
       "    .dataframe tbody tr th {\n",
       "        vertical-align: top;\n",
       "    }\n",
       "\n",
       "    .dataframe thead th {\n",
       "        text-align: right;\n",
       "    }\n",
       "</style>\n",
       "<table border=\"1\" class=\"dataframe\">\n",
       "  <thead>\n",
       "    <tr style=\"text-align: right;\">\n",
       "      <th></th>\n",
       "      <th>title</th>\n",
       "      <th>selftext</th>\n",
       "      <th>subreddit</th>\n",
       "    </tr>\n",
       "  </thead>\n",
       "  <tbody>\n",
       "    <tr>\n",
       "      <th>0</th>\n",
       "      <td>new to solo travel  post here for introduction...</td>\n",
       "      <td>new   are you planning your first big trip to...</td>\n",
       "      <td>0</td>\n",
       "    </tr>\n",
       "  </tbody>\n",
       "</table>\n",
       "</div>"
      ],
      "text/plain": [
       "                                               title  \\\n",
       "0  new to solo travel  post here for introduction...   \n",
       "\n",
       "                                            selftext subreddit  \n",
       "0   new   are you planning your first big trip to...         0  "
      ]
     },
     "execution_count": 26,
     "metadata": {},
     "output_type": "execute_result"
    }
   ],
   "source": [
    "#Ensuring 'author' header has been dropped\n",
    "combined_df.head(1)"
   ]
  },
  {
   "cell_type": "markdown",
   "metadata": {},
   "source": [
    "Saving the combined_df to a new dataframe that can be used in classification"
   ]
  },
  {
   "cell_type": "code",
   "execution_count": 27,
   "metadata": {},
   "outputs": [],
   "source": [
    "#Saving with 'to_csv' to the data folder\n",
    "combined_df.to_csv('../data/combined_df_processed.csv', index=False)"
   ]
  },
  {
   "cell_type": "markdown",
   "metadata": {},
   "source": [
    "## Section 3: Exploring the text data"
   ]
  },
  {
   "cell_type": "markdown",
   "metadata": {},
   "source": [
    "Here are the questions we'll be answering as we explore the text data, with guidance from [this post](https://towardsdatascience.com/exploratory-text-analysis-in-python-8cf42b758d9e)\n",
    "\n",
    "**Posts and strings**\n",
    "\n",
    "1. How many strings are there?\n",
    "2. Which strings appear most frequently?\n",
    "3. How do the shortest strings look like?\n",
    "4. How do the longest strings look like?\n",
    "\n",
    "**Tokens**\n",
    "\n",
    "5. How many tokens, unique and non-unique, are there?\n",
    "6. What is the average length of tokens?\n",
    "\n",
    "**n-grams**\n",
    "\n",
    "7. What are the most common unigrams, bigrams, and trigrams?"
   ]
  },
  {
   "cell_type": "code",
   "execution_count": 28,
   "metadata": {},
   "outputs": [],
   "source": [
    "#Save the subreddit masks as variables for easy reference. This will save them into a slice of the df\n",
    "japan = combined_df[combined_df['subreddit'] == 1]\n",
    "solo = combined_df[combined_df['subreddit'] == 0]"
   ]
  },
  {
   "cell_type": "code",
   "execution_count": 29,
   "metadata": {},
   "outputs": [
    {
     "data": {
      "text/plain": [
       "891      january 2021    japan has again closed their ...\n",
       "892      wee to  japantravel s tourism by prefecture s...\n",
       "893     hi there fellow travellers we are thinking of ...\n",
       "894     hello  i have noticed that the  google score  ...\n",
       "895     my phone fell down somedays ago and now has a ...\n",
       "                              ...                        \n",
       "1864    hello  japantravel  i ve been making plans for...\n",
       "1865    first timer  to this reddit and japan  here   ...\n",
       "1866    hey  i ll probably be visiting this subreddit ...\n",
       "1867    technically 7 since my flight would leave at 8...\n",
       "1868    i m a high level para athlete  sprinter  and a...\n",
       "Name: selftext, Length: 978, dtype: object"
      ]
     },
     "execution_count": 29,
     "metadata": {},
     "output_type": "execute_result"
    }
   ],
   "source": [
    "#Ensuring the variable works\n",
    "japan['selftext']"
   ]
  },
  {
   "cell_type": "code",
   "execution_count": 30,
   "metadata": {},
   "outputs": [],
   "source": [
    "#Combine each corpus into one giant string\n",
    "japan_train_string = \" \".join(japan['selftext'])\n",
    "solo_train_string = \" \".join(solo['selftext'])\n",
    "\n",
    "#Split the corpus by white space\n",
    "japan_splits = japan_train_string.split()\n",
    "solo_splits = solo_train_string.split()"
   ]
  },
  {
   "cell_type": "code",
   "execution_count": 31,
   "metadata": {},
   "outputs": [
    {
     "data": {
      "text/plain": [
       "' january 2021    japan has again closed their borders to all new entries at this time  due to detect'"
      ]
     },
     "execution_count": 31,
     "metadata": {},
     "output_type": "execute_result"
    }
   ],
   "source": [
    "# Check the first 100 characters of the giant string for Japan\n",
    "japan_train_string[0:100]"
   ]
  },
  {
   "cell_type": "code",
   "execution_count": 33,
   "metadata": {},
   "outputs": [
    {
     "data": {
      "text/plain": [
       "['january',\n",
       " '2021',\n",
       " 'japan',\n",
       " 'has',\n",
       " 'again',\n",
       " 'closed',\n",
       " 'their',\n",
       " 'borders',\n",
       " 'to',\n",
       " 'all']"
      ]
     },
     "execution_count": 33,
     "metadata": {},
     "output_type": "execute_result"
    }
   ],
   "source": [
    "# Checking the first 10 split tokens for Japan\n",
    "japan_splits[0:10]"
   ]
  },
  {
   "cell_type": "code",
   "execution_count": 34,
   "metadata": {},
   "outputs": [
    {
     "data": {
      "text/plain": [
       "' new   are you planning your first big trip to europe  check out our  brand new  detailed guide to p'"
      ]
     },
     "execution_count": 34,
     "metadata": {},
     "output_type": "execute_result"
    }
   ],
   "source": [
    "# Check the first 100 characters fo the giant string for solotravel\n",
    "solo_train_string[0:100]"
   ]
  },
  {
   "cell_type": "code",
   "execution_count": 35,
   "metadata": {},
   "outputs": [
    {
     "data": {
      "text/plain": [
       "['new',\n",
       " 'are',\n",
       " 'you',\n",
       " 'planning',\n",
       " 'your',\n",
       " 'first',\n",
       " 'big',\n",
       " 'trip',\n",
       " 'to',\n",
       " 'europe']"
      ]
     },
     "execution_count": 35,
     "metadata": {},
     "output_type": "execute_result"
    }
   ],
   "source": [
    "# Check the first 10 split tokens for solotravel\n",
    "solo_splits[0:10]"
   ]
  },
  {
   "cell_type": "markdown",
   "metadata": {},
   "source": [
    "### Question 1: How many strings are there?"
   ]
  },
  {
   "cell_type": "code",
   "execution_count": 36,
   "metadata": {},
   "outputs": [
    {
     "name": "stdout",
     "output_type": "stream",
     "text": [
      "Number of strings in JapanTravel subreddit: 406646\n",
      "Number of unique strings in JapanTravel subreddit: 17366\n",
      " \n",
      "Number of strings in solotravel subreddit: 159216\n",
      "Number of unique strings in solotravel subreddit: 10411\n"
     ]
    }
   ],
   "source": [
    "# Print the number of strings and the number of unique strings in JapanTravel and solotravel\n",
    "print(f\"Number of strings in JapanTravel subreddit: {len(japan_splits)}\")\n",
    "print(f\"Number of unique strings in JapanTravel subreddit: {len(set(japan_splits))}\")\n",
    "\n",
    "print(' ')\n",
    "\n",
    "print(f\"Number of strings in solotravel subreddit: {len(solo_splits)}\")\n",
    "print(f\"Number of unique strings in solotravel subreddit: {len(set(solo_splits))}\")"
   ]
  },
  {
   "cell_type": "markdown",
   "metadata": {},
   "source": [
    "solotravel has 39% as many strings as JapanTravel and 59% as many unique strings as JapanTravel. It seems people posting in JapanTravel are more verbose. \n",
    "\n",
    "This difference is probably not due to a lack of data for solotravel because solotravel has around 930 rows, compared to JapanTravel's 981. A difference of 50 rows should not result in a more than 2x word difference."
   ]
  },
  {
   "cell_type": "markdown",
   "metadata": {},
   "source": [
    "### Question 2. Which strings appear most frequently?"
   ]
  },
  {
   "cell_type": "code",
   "execution_count": 37,
   "metadata": {},
   "outputs": [],
   "source": [
    "#Using NLTK's FreqDist class to get the frequency distribution of words\n",
    "japan_freq_splits = FreqDist(japan_splits)\n",
    "solo_freq_splits = FreqDist(solo_splits)"
   ]
  },
  {
   "cell_type": "code",
   "execution_count": 38,
   "metadata": {},
   "outputs": [
    {
     "name": "stdout",
     "output_type": "stream",
     "text": [
      "Top 10 words in:\n",
      "\n",
      "JapanTravel: [('the', 15465), ('to', 15172), ('and', 10237), ('i', 8825), ('a', 8186), ('in', 7141), ('of', 5693), ('we', 5540), ('for', 4853), ('day', 3905)]\n",
      "\n",
      "solotravel: [('i', 7821), ('to', 5628), ('the', 5122), ('and', 4348), ('a', 3777), ('in', 2781), ('of', 2391), ('for', 1945), ('my', 1866), ('it', 1749)]\n",
      "\n"
     ]
    }
   ],
   "source": [
    "#Print the top 10 most frequent words in JapanTravel and solotravel\n",
    "print(\"Top 10 words in:\\n\")\n",
    "print(f\"JapanTravel: {japan_freq_splits.most_common(10)}\\n\")\n",
    "print(f\"solotravel: {solo_freq_splits.most_common(10)}\\n\")"
   ]
  },
  {
   "cell_type": "markdown",
   "metadata": {},
   "source": [
    "As I haven't removed stop words, it's no surprise that stop words appear most frequently. What is interesting though is the ratio of stop words. solotravel seems to use most of the stop words frequently, while JapanTravel sees to refer to things ('the') and movement towards things ('to') much more frequently than 'is'. \n",
    "\n",
    "As I suspected, the word 'we' appears under JapanTravel, while it does not appear in the top 10 words in solotravel. The word 'i' also appears as the 6th most frequent word in JapanTravel, while appearing 2nd in solotravel. However, in absolute numbers the word 'i' appears around as frequently in both subreddits.\n",
    "\n",
    "Both subreddits' most frequent words appear around 5x as much as the 10th most frequent word. This difference is magnified when you consider that 'is', the 10th most frequent word for both subreddits, is used 3x as much in JapanTravel than in solotravel. "
   ]
  },
  {
   "cell_type": "markdown",
   "metadata": {},
   "source": [
    "### Question 3. How do the shortest strings look like?"
   ]
  },
  {
   "cell_type": "code",
   "execution_count": 39,
   "metadata": {},
   "outputs": [
    {
     "name": "stdout",
     "output_type": "stream",
     "text": [
      "[('one', 892), ('an', 852), ('2', 830), ('by', 811), ('3', 799), ('4', 756), ('see', 753), ('1', 744), ('me', 684), ('ve', 635)]\n",
      " \n",
      "[('don', 366), ('one', 326), ('had', 324), ('by', 313), ('has', 304), ('3', 276), ('2', 273), ('we', 268), ('now', 251), ('no', 244)]\n"
     ]
    }
   ],
   "source": [
    "#Get the short strings, with short being length 1-3\n",
    "japan_short = set(s for s in japan_splits if len(s)<4)\n",
    "solo_short = set(s for s in solo_splits if len(s)<4)\n",
    "\n",
    "#Get frequency\n",
    "japan_short = [(s, japan_freq_splits[s]) for s in japan_short]\n",
    "solo_short = [(s, solo_freq_splits[s]) for s in solo_short]\n",
    "\n",
    "#Sort the short strings\n",
    "japan_short.sort(key=lambda x:x[1], reverse=True)\n",
    "solo_short.sort(key=lambda x:x[1], reverse=True)\n",
    "\n",
    "print(japan_short[40:50])\n",
    "print(' ')\n",
    "print(solo_short[40:50])"
   ]
  },
  {
   "cell_type": "markdown",
   "metadata": {},
   "source": [
    "The first 10 words are the same as the stop words, so let's pick, say, the 40th to 50th words to analyse.\n",
    "\n",
    "First, the frequency in absolute number is much higher for JapanTravel than solotravel. For example, the word 'see' is used twice as much, 722 times, as 'by' in solotravel, 314 times.\n",
    "\n",
    "Interestingly, 'see' is the 50th most frequent shortest word in solotravel, while it is the 40th most frequent shortest word in JapanTravel."
   ]
  },
  {
   "cell_type": "markdown",
   "metadata": {},
   "source": [
    "### Question 4: How do the longest strings look like?"
   ]
  },
  {
   "cell_type": "code",
   "execution_count": 40,
   "metadata": {},
   "outputs": [
    {
     "name": "stdout",
     "output_type": "stream",
     "text": [
      "japan_long: [('international', 89), ('transportation', 69), ('unfortunately', 68), ('cancellations', 34), ('shimokitazawa', 30), ('entertainment', 26), ('businesspeople', 16), ('understanding', 15), ('neighborhoods', 14), ('establishments', 12)]\n",
      " \n",
      "solo_long: [('international', 49), ('unfortunately', 19), ('transportation', 18), ('circumstances', 8), ('realistically', 7), ('relationships', 7), ('conversations', 7), ('opportunities', 6), ('internationally', 6), ('lauterbrunnen', 5)]\n"
     ]
    }
   ],
   "source": [
    "#Get the short strings, with short being length >12\n",
    "japan_long = set(s for s in japan_splits if len(s)>12)\n",
    "solo_long = set(s for s in solo_splits if len(s)>12)\n",
    "\n",
    "#Get frequency\n",
    "japan_long = [(s, japan_freq_splits[s]) for s in japan_long]\n",
    "solo_long = [(s, solo_freq_splits[s]) for s in solo_long]\n",
    "\n",
    "#Sort the short strings\n",
    "japan_long.sort(key=lambda x:x[1], reverse=True)\n",
    "solo_long.sort(key=lambda x:x[1], reverse=True)\n",
    "\n",
    "print(f\"japan_long: {japan_long[0:10]}\")\n",
    "print(' ')\n",
    "print(f\"solo_long: {solo_long[0:10]}\")"
   ]
  },
  {
   "cell_type": "markdown",
   "metadata": {},
   "source": [
    "Unlike short strings, the long strings used are generally the same. This is because both are travel subreddits, so they discuss similar topics.\n",
    "\n",
    "Of note is that 'internationally' and 'international' are considered 2 strings. Some lemmatization might be necessary."
   ]
  },
  {
   "cell_type": "code",
   "execution_count": 41,
   "metadata": {},
   "outputs": [
    {
     "name": "stdout",
     "output_type": "stream",
     "text": [
      "japan_long: [('uminonakamichi', 3), ('mandarakeplex', 3), ('shiroikoibito', 3), ('reconstruction', 3), ('shinobazunoike', 3), ('restrictionsing', 3), ('consultations', 3), ('possibilities', 3), ('amanohashidate', 3), ('inconvenience', 3)]\n",
      " \n",
      "solo_long: [('certification', 2), ('responsibility', 2), ('irresponsible', 2), ('instinctively', 2), ('nationalities', 2), ('inappropriate', 2), ('brainbloopers', 2), ('brainstorming', 2), ('reconsidering', 2), ('reservationthe', 1)]\n"
     ]
    }
   ],
   "source": [
    "#Let's look at the 40th-50th words\n",
    "print(f\"japan_long: {japan_long[40:50]}\")\n",
    "print(' ')\n",
    "print(f\"solo_long: {solo_long[40:50]}\")"
   ]
  },
  {
   "cell_type": "markdown",
   "metadata": {},
   "source": [
    "Besides one or two words being used in both subreddits ('inappropriate'), these rare words might be what differentiates one post being in one subreddit and another post in the other."
   ]
  },
  {
   "cell_type": "markdown",
   "metadata": {},
   "source": [
    "### Question 5: How many unique and non-unique tokens are there?"
   ]
  },
  {
   "cell_type": "code",
   "execution_count": 42,
   "metadata": {},
   "outputs": [
    {
     "name": "stdout",
     "output_type": "stream",
     "text": [
      "Number of tokens in JapanTravel: 395600\n",
      "Number of tokens in solotravel: 157021 \n",
      "\n",
      "Number of unique tokens in JapanTravel: 16103\n",
      "Number of unique tokens in solotravel: 10034\n"
     ]
    }
   ],
   "source": [
    "#Instantiate RegexpTokenizer and tokenize the strings\n",
    "tokenizer = RegexpTokenizer(\"[A-Za-z]+\")\n",
    "\n",
    "japan_tokens = tokenizer.tokenize(japan_train_string)\n",
    "solo_tokens = tokenizer.tokenize(solo_train_string)\n",
    "\n",
    "#Print number of unique and non-unique tokens\n",
    "print(f\"Number of tokens in JapanTravel: {len(japan_tokens)}\")\n",
    "print(f\"Number of tokens in solotravel: {len(solo_tokens)} \\n\")\n",
    "\n",
    "print(f\"Number of unique tokens in JapanTravel: {len(set(japan_tokens))}\")\n",
    "print(f\"Number of unique tokens in solotravel: {len(set(solo_tokens))}\")"
   ]
  },
  {
   "cell_type": "markdown",
   "metadata": {},
   "source": [
    "Redditors use more unique words in JapanTravel and type longer posts than solotravel. It should be easier for the model to classify a post as JapanTravel if there are unique words that only appear in that subreddit.\n",
    "\n",
    "On the other hand, JapanTravel posts might be wrongly classified as solotravel posts if they are short and do not contain as many unique tokens."
   ]
  },
  {
   "cell_type": "markdown",
   "metadata": {},
   "source": [
    "### Question 6: What is the average length of tokens?"
   ]
  },
  {
   "cell_type": "code",
   "execution_count": 43,
   "metadata": {},
   "outputs": [
    {
     "name": "stdout",
     "output_type": "stream",
     "text": [
      "Average number of characters per token in JapanTravel: 4.3296\n"
     ]
    },
    {
     "data": {
      "image/png": "[encoded data removed]",
      "text/plain": [
       "<Figure size 864x864 with 1 Axes>"
      ]
     },
     "metadata": {
      "needs_background": "light"
     },
     "output_type": "display_data"
    }
   ],
   "source": [
    "#Create a list of token lengths for each token in JapanTravel\n",
    "japan_token_length = [len(t) for t in japan_tokens]\n",
    "\n",
    "# Get the mean length of the tokens\n",
    "print(f\"Average number of characters per token in JapanTravel: {round(np.mean(japan_token_length), 4)}\")\n",
    "\n",
    "#Plot distribution\n",
    "plt.figure(figsize=(12, 12))\n",
    "sns.countplot(x=japan_token_length)\n",
    "plt.title(\"Counts of token length for JapanTravel\", size=20);"
   ]
  },
  {
   "cell_type": "code",
   "execution_count": 44,
   "metadata": {},
   "outputs": [
    {
     "name": "stdout",
     "output_type": "stream",
     "text": [
      "Average number of characters per token in solotravel: 4.1321\n"
     ]
    },
    {
     "data": {
      "image/png": "[encoded data removed]",
      "text/plain": [
       "<Figure size 864x864 with 1 Axes>"
      ]
     },
     "metadata": {
      "needs_background": "light"
     },
     "output_type": "display_data"
    }
   ],
   "source": [
    "#Doing the same for solotravel\n",
    "\n",
    "#Create a list of token lengths for each solotravel token\n",
    "solo_token_length = [len(t) for t in solo_tokens]\n",
    "\n",
    "# Get the mean length of the tokens\n",
    "print(f\"Average number of characters per token in solotravel: {round(np.mean(solo_token_length), 4)}\")\n",
    "\n",
    "#Plot distribution\n",
    "plt.figure(figsize=(12, 12))\n",
    "sns.countplot(x=solo_token_length)\n",
    "plt.title(\"Counts of token length for solotravel\", size=20);"
   ]
  },
  {
   "cell_type": "markdown",
   "metadata": {},
   "source": [
    "Both subreddits have a mean of around 4 characters per token. JapanTravel uses slightly longer words at 4.3, compared to solotravel's 4.1. \n",
    "\n",
    "Both of these distributions are right-skewed, which is as expected as there can be longer words _ad infinitum_, but you can't have fewer than 0 characters.\n",
    "\n",
    "The peaks are slightly different, with solotravel peaking at 4 characters, while JapanTravel peaks at around 3 characters. JapanTravel's mean of 4.3 stems from the longer words affecting the mean.\n",
    "\n",
    "Finally, solotravel uses fewer tokens overall, as we have already found."
   ]
  },
  {
   "cell_type": "markdown",
   "metadata": {},
   "source": [
    "Let's take a look at the rare words in both subreddits."
   ]
  },
  {
   "cell_type": "code",
   "execution_count": 45,
   "metadata": {},
   "outputs": [
    {
     "name": "stdout",
     "output_type": "stream",
     "text": [
      "length\n",
      "13        679\n",
      "14        270\n",
      "15        103\n",
      "16         46\n",
      "17         35\n",
      "18         22\n",
      "19         10\n",
      "20          8\n",
      "22          4\n",
      "21          4\n",
      "32          1\n",
      "29          1\n",
      "28          1\n",
      "26          1\n",
      "dtype: int64\n",
      " \n",
      "['grababrushandputalittlemakeup', 'disneyseanonnegotiable', 'markethakkodamaruauga', 'justwantedacoolangle', 'roastersshisaibashiden', 'templegionhigashiyama', 'plazaomotesandoshibuya', 'ginzamitsukoshimatsuyamarronnier', 'abenoharukasuevening', 'kawaguchikawaguchiko', 'inarikiyomizuderagion', 'thepinaysolobackpacker', 'memorialgyeongbokgong', 'tokyoshibakoenzojoji', 'shoppingdinnerdrinkskyotoday', 'templeshoppingdinner', 'festivaldinnerhiroshimaday', 'unbelievablyfortable', 'okonomiyakihiroshima', 'ryokancheckouttravel']\n"
     ]
    }
   ],
   "source": [
    "#Counting number of rare words in JapanTravel and printing them\n",
    "print(pd.DataFrame(data=japan_token_length, columns = ['length']).query(\"length>12\").value_counts())\n",
    "print(' ')\n",
    "print([t for t in japan_tokens if len(t) >= 20])"
   ]
  },
  {
   "cell_type": "code",
   "execution_count": 46,
   "metadata": {},
   "outputs": [
    {
     "name": "stdout",
     "output_type": "stream",
     "text": [
      "length\n",
      "13        273\n",
      "14         90\n",
      "15         26\n",
      "16         21\n",
      "18         10\n",
      "20          5\n",
      "17          4\n",
      "19          3\n",
      "32          1\n",
      "22          1\n",
      "dtype: int64\n",
      " \n",
      "['apprenticedinstagram', 'logisticalplications', 'netherlandscountries', 'sacramentosacramento', 'indianpolisindianpolis', 'cincinnaticincinnati', 'thankyouthankyouthankyouthankyou']\n"
     ]
    }
   ],
   "source": [
    "#Counting number of rare words in solotravel\n",
    "print(pd.DataFrame(data=solo_token_length, columns = ['length']).query(\"length>12\").value_counts())\n",
    "print(' ')\n",
    "print([t for t in solo_tokens if len(t) >= 20])"
   ]
  },
  {
   "cell_type": "markdown",
   "metadata": {},
   "source": [
    "Both have 32 character tokens and are potentially the same word. JapanTravel has more variety of longer words,w ith 21, 28 character words that cannot be found in solotravel.\n",
    "\n",
    "These characters were not pre-processed properly, but they can be removed."
   ]
  },
  {
   "cell_type": "markdown",
   "metadata": {},
   "source": [
    "### Question 7: What are the most common unigrams, bigrams, and trigrams?"
   ]
  },
  {
   "cell_type": "markdown",
   "metadata": {},
   "source": [
    "We need to remove stop words from the tokens and strings to get an idea of the most common n-grams."
   ]
  },
  {
   "cell_type": "code",
   "execution_count": 47,
   "metadata": {},
   "outputs": [],
   "source": [
    "#instantiate stopwords\n",
    "stop_words = stopwords.words(\"english\")"
   ]
  },
  {
   "cell_type": "code",
   "execution_count": 48,
   "metadata": {},
   "outputs": [
    {
     "name": "stdout",
     "output_type": "stream",
     "text": [
      "Number of tokens in JapanTravel before cleaning: 395600\n",
      "Number of cleaned tokens in JapanTravel: 218481\n",
      " \n",
      "Number of tokens in solotravel before cleaning: 157021\n",
      "Number of cleaned tokens in solotravel: 76545\n"
     ]
    }
   ],
   "source": [
    "# clean the subreddits' tokens\n",
    "japan_tokens_clean = [t for t in japan_tokens if t not in stop_words]\n",
    "print(f\"Number of tokens in JapanTravel before cleaning: {len(japan_tokens)}\")\n",
    "print(f\"Number of cleaned tokens in JapanTravel: {len(japan_tokens_clean)}\")\n",
    "print(' ') \n",
    "\n",
    "solo_tokens_clean = [t for t in solo_tokens if t not in stop_words]\n",
    "print(f\"Number of tokens in solotravel before cleaning: {len(solo_tokens)}\")\n",
    "print(f\"Number of cleaned tokens in solotravel: {len(solo_tokens_clean)}\")"
   ]
  },
  {
   "cell_type": "markdown",
   "metadata": {},
   "source": [
    "About half of the tokens were removed!"
   ]
  },
  {
   "cell_type": "code",
   "execution_count": 49,
   "metadata": {},
   "outputs": [],
   "source": [
    "#Define a function to remove the stopwords in the large string (japan_train_string and solo_train_string)\n",
    "def remove_stopwords(string):\n",
    "    stop_words = stopwords.words(\"english\")\n",
    "    new_string = ' '.join([word for word in string.split() if word not in stop_words])\n",
    "    return new_string"
   ]
  },
  {
   "cell_type": "code",
   "execution_count": 50,
   "metadata": {},
   "outputs": [],
   "source": [
    "#Apply the function to the giant strings and save them as a cleaned string\n",
    "japan_train_string_cleaned = remove_stopwords(japan_train_string)\n",
    "solo_train_string_cleaned = remove_stopwords(solo_train_string)"
   ]
  },
  {
   "cell_type": "code",
   "execution_count": 51,
   "metadata": {},
   "outputs": [
    {
     "data": {
      "text/plain": [
       "'january 2021 japan closed borders new entries time due detection new variant covid 19 uk found entra'"
      ]
     },
     "execution_count": 51,
     "metadata": {},
     "output_type": "execute_result"
    }
   ],
   "source": [
    "#Checking the first 100 characters of the Japan string\n",
    "japan_train_string_cleaned[0:100]"
   ]
  },
  {
   "cell_type": "code",
   "execution_count": 52,
   "metadata": {},
   "outputs": [
    {
     "data": {
      "text/plain": [
       "'new planning first big trip europe check brand new detailed guide planning solo eurotrip nervous cor'"
      ]
     },
     "execution_count": 52,
     "metadata": {},
     "output_type": "execute_result"
    }
   ],
   "source": [
    "#Checking the first 100 characters of the solo string\n",
    "solo_train_string_cleaned[0:100]"
   ]
  },
  {
   "cell_type": "code",
   "execution_count": 53,
   "metadata": {},
   "outputs": [],
   "source": [
    "#Get the ngrams from a string\n",
    "def get_ngrams(text, n):\n",
    "    n_grams = ngrams(text.split(), n)\n",
    "    return [ grams for grams in n_grams]"
   ]
  },
  {
   "cell_type": "code",
   "execution_count": 54,
   "metadata": {},
   "outputs": [
    {
     "data": {
      "text/plain": [
       "[('january', '2021'),\n",
       " ('2021', 'japan'),\n",
       " ('japan', 'closed'),\n",
       " ('closed', 'borders'),\n",
       " ('borders', 'new')]"
      ]
     },
     "execution_count": 54,
     "metadata": {},
     "output_type": "execute_result"
    }
   ],
   "source": [
    "#Get the bigrams for JapanTravel\n",
    "get_ngrams(japan_train_string_cleaned, 2)[0:5]"
   ]
  },
  {
   "cell_type": "code",
   "execution_count": 55,
   "metadata": {},
   "outputs": [
    {
     "data": {
      "text/plain": [
       "[('new', 'planning'),\n",
       " ('planning', 'first'),\n",
       " ('first', 'big'),\n",
       " ('big', 'trip'),\n",
       " ('trip', 'europe')]"
      ]
     },
     "execution_count": 55,
     "metadata": {},
     "output_type": "execute_result"
    }
   ],
   "source": [
    "#Get the bigrams for solotravel\n",
    "get_ngrams(solo_train_string_cleaned, 2)[0:5]"
   ]
  },
  {
   "cell_type": "code",
   "execution_count": 56,
   "metadata": {},
   "outputs": [],
   "source": [
    "#Get the frequent ngrams\n",
    "def get_frequent_ngrams(string, ngram_num, most_common_num=20):\n",
    "    \n",
    "    #Get the ngrams\n",
    "    n_grams = get_ngrams(string, ngram_num)\n",
    "    \n",
    "    # Find frequency of ngrams\n",
    "    freq_dist = FreqDist(n_grams)\n",
    "    top_freq = freq_dist.most_common(most_common_num)\n",
    "    return pd.DataFrame(top_freq, columns = [\"ngram\", \"count\"])"
   ]
  },
  {
   "cell_type": "code",
   "execution_count": 57,
   "metadata": {
    "scrolled": false
   },
   "outputs": [
    {
     "data": {
      "image/png": "[encoded data removed]",
      "text/plain": [
       "<Figure size 864x720 with 1 Axes>"
      ]
     },
     "metadata": {
      "needs_background": "light"
     },
     "output_type": "display_data"
    },
    {
     "data": {
      "image/png": "[encoded data removed]",
      "text/plain": [
       "<Figure size 864x720 with 1 Axes>"
      ]
     },
     "metadata": {
      "needs_background": "light"
     },
     "output_type": "display_data"
    },
    {
     "data": {
      "image/png": "[encoded data removed]",
      "text/plain": [
       "<Figure size 864x720 with 1 Axes>"
      ]
     },
     "metadata": {
      "needs_background": "light"
     },
     "output_type": "display_data"
    },
    {
     "data": {
      "image/png": "[encoded data removed]",
      "text/plain": [
       "<Figure size 864x720 with 1 Axes>"
      ]
     },
     "metadata": {
      "needs_background": "light"
     },
     "output_type": "display_data"
    }
   ],
   "source": [
    "# Get frequent ngrams for all 4 grams for JapanTravel\n",
    "for i in range(1,5):\n",
    "    #Set a mapping for the title later\n",
    "    mapping = {1:\"uni\", 2:\"bi\", 3:\"tri\", 4:\"four\"}\n",
    "    \n",
    "    #instantiate the figure\n",
    "    plt.figure(figsize=(12,10))\n",
    "    \n",
    "    #Set the data, getting the frequent ngrams\n",
    "    data= get_frequent_ngrams(japan_train_string_cleaned, i)\n",
    "    \n",
    "    #Do a barplot with the ngrams on the y axis for easy reading\n",
    "    sns.barplot(x=\"count\", y=\"ngram\", data=data)\n",
    "    \n",
    "    #Plt the title\n",
    "    plt.title(f\"Most common {mapping[i]}grams for JapanTravel\");"
   ]
  },
  {
   "cell_type": "code",
   "execution_count": 58,
   "metadata": {
    "scrolled": false
   },
   "outputs": [
    {
     "data": {
      "image/png": "[encoded data removed]",
      "text/plain": [
       "<Figure size 864x720 with 1 Axes>"
      ]
     },
     "metadata": {
      "needs_background": "light"
     },
     "output_type": "display_data"
    },
    {
     "data": {
      "image/png": "[encoded data removed]",
      "text/plain": [
       "<Figure size 864x720 with 1 Axes>"
      ]
     },
     "metadata": {
      "needs_background": "light"
     },
     "output_type": "display_data"
    },
    {
     "data": {
      "image/png": "[encoded data removed]",
      "text/plain": [
       "<Figure size 864x720 with 1 Axes>"
      ]
     },
     "metadata": {
      "needs_background": "light"
     },
     "output_type": "display_data"
    },
    {
     "data": {
      "image/png": "[encoded data removed]",
      "text/plain": [
       "<Figure size 864x720 with 1 Axes>"
      ]
     },
     "metadata": {
      "needs_background": "light"
     },
     "output_type": "display_data"
    }
   ],
   "source": [
    "# Get frequent ngrams for all 4 grams for solotravel\n",
    "for i in range(1,5):\n",
    "    #Set a mapping for the title later\n",
    "    mapping = {1:\"uni\", 2:\"bi\", 3:\"tri\", 4:\"four\"}\n",
    "    \n",
    "    #instantiate the figure\n",
    "    plt.figure(figsize=(12,10))\n",
    "    \n",
    "    #Set the data, getting the frequent ngrams\n",
    "    data= get_frequent_ngrams(solo_train_string_cleaned, i)\n",
    "    \n",
    "    #Do a barplot with the ngrams on the y axis for easy reading\n",
    "    sns.barplot(x=\"count\", y=\"ngram\", data=data)\n",
    "    \n",
    "    #Plt the title\n",
    "    plt.title(f\"Most common {mapping[i]}grams for solotravel\");"
   ]
  },
  {
   "cell_type": "markdown",
   "metadata": {},
   "source": [
    "#### Unigrams\n",
    "\n",
    "The most common unigrams are different from one another. solotravel uses 'like' the most, while JapanTravel uses 'day'.\n",
    "\n",
    "Despite being travel subreddits, travel does not appear in the most frequent unigrams for JapanTravel. There is also a number, '2', that appears last in the list of JapanTravel. solotravel also seems to discuss round trips, with words like 'around' and 'back' appearing.\n",
    "\n",
    "#### Bigrams\n",
    "\n",
    "Bigrams has this weird gram called ('amp', '200b') appearing in both subreddits. This may be some kind of link that was unfortunately not cleared up properly. I have not been able to identify what they are to properly be able to remove them. \n",
    "\n",
    "JapanTravel seems to have more people going for day trips, as evidenced by its highest frequency bigram ('day', 'trip'). solotravel, unsurprisingly, has ('solo', 'travel') as the most frequent bigram. They seem to ask more questions too, with ('would', 'like') being the second most frequent bigram. This suggests that the posters 'would like' to do something but are unable to do so.\n",
    "\n",
    "Meanwhile, JapanTravel seems to discuss planned trips, with ('day', 'n'), with 'n' being 1-8, being in the most frequent bigrams. \n",
    "\n",
    "#### Trigrams\n",
    "\n",
    "Trigrams give even more information, giving more weight to the idea that solotravel redditers ask many questions. They also seem to travel around with working or holiday visas. They would like to travel by hot air balloon, and travel to south east asia (this suggests they are mostly from the west, as fewer people in Asia would find south east asia exotic).\n",
    "\n",
    "Meanwhile, JapanTravel redditors would like to visit an Inari shrine in Fushimi. They are probably families asking questions because of questions about the Junior pass. They would like to travel even during the Covid-19 period. People really love that Inari shrine in Fushimi as they advise first time visitors making a trip to Japan. \n",
    "\n",
    "#### Fourgrams\n",
    "\n",
    "There are very few fourgrams that are of note that give us anything new.\n",
    "\n",
    "#### Final Analysis\n",
    "\n",
    "Despite the bi, tri, and four grams giving us a lot of information about the types of posts people make, their performance is almost definitely worse than simply using a unigram. This is because of the frequency of significant and frequent bigrams and more being much rarer than unigrams.\n",
    "\n",
    "There are 4000 unigrams in JapanTravel, but only 800 in solotravel, and it decreases exponentially. There are only around 800 bigrams in JapanTravel for its most frequent bigram, and only 90 for solotravel. There just isn't enough data to differentiate the two. Therefore, unigrams will have to suffice.\n",
    "\n",
    "Fortunately, the unigrams seem to be different from one another already, with the travel concerns being different."
   ]
  },
  {
   "cell_type": "markdown",
   "metadata": {},
   "source": [
    "## Section 4: References\n",
    "\n",
    "I make extensive use of '[Exploratory text analysis in Python](https://towardsdatascience.com/exploratory-text-analysis-in-python-8cf42b758d9e)'. It comes with a lot of code that I've sometimes used directly with comments to show I know what is happening.\n",
    "\n",
    "1. Luvsandorj, Z. (2020, August 31). _Exploratory text analysis in Python_. Retrieved from [https://towardsdatascience.com/exploratory-text-analysis-in-python-8cf42b758d9e](https://towardsdatascience.com/exploratory-text-analysis-in-python-8cf42b758d9e)."
   ]
  }
 ],
 "metadata": {
  "kernelspec": {
   "display_name": "Python 3",
   "language": "python",
   "name": "python3"
  },
  "language_info": {
   "codemirror_mode": {
    "name": "ipython",
    "version": 3
   },
   "file_extension": ".py",
   "mimetype": "text/x-python",
   "name": "python",
   "nbconvert_exporter": "python",
   "pygments_lexer": "ipython3",
   "version": "3.8.5"
  }
 },
 "nbformat": 4,
 "nbformat_minor": 4
}
